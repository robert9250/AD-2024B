{
 "cells": [
  {
   "cell_type": "markdown",
   "id": "645f968c-75c9-4ca9-9677-7e93aa4f2297",
   "metadata": {},
   "source": [
    "### Jose Roberto Vasquez Luna\n",
    "\n",
    "### 217882996\n",
    "\n",
    "### Actividad 3\n",
    "\n",
    "##### Descripción:\n",
    "\n",
    "Codificar las Estructuras de Control en python, describir y comentar las etapas propuestas, ademas de estar justificadas."
   ]
  },
  {
   "cell_type": "markdown",
   "id": "a090bc7d-b918-4dc3-ab4f-36b53ef8bfc4",
   "metadata": {},
   "source": [
    "## Estructuras de control\n",
    "Las estructuras de control en Python permiten dirigir el flujo de la ejecución del programa dependiendo de ciertas condiciones. \n",
    "Las estructuras de control básicas incluyen condicionales, bucles, y otras declaraciones de control de flujo."
   ]
  },
  {
   "cell_type": "markdown",
   "id": "855428cf-6543-42a3-896b-bb9d3b8daf52",
   "metadata": {},
   "source": [
    "## 1. Estructuras Condicionales (If, Elif, Else)\n",
    "Las estructuras condicionales permiten que el programa ejecute diferentes bloques de código en función de ciertas condiciones."
   ]
  },
  {
   "cell_type": "markdown",
   "id": "71075969-1b1c-4be6-b98e-e51f731bfae2",
   "metadata": {},
   "source": [
    "La estructura `if` evalúa una condición y, si es verdadera, ejecuta el bloque de código asociado. La estructura `elif` permite \n",
    "evaluar condiciones adicionales si la primera es falsa, y `else` se ejecuta si todas las condiciones anteriores son falsas."
   ]
  },
  {
   "cell_type": "code",
   "execution_count": 11,
   "id": "187f5707-7460-41bc-9f90-088f485bc346",
   "metadata": {},
   "outputs": [
    {
     "name": "stdout",
     "output_type": "stream",
     "text": [
      "Eres adulto.\n"
     ]
    }
   ],
   "source": [
    "# Ejemplo de estructura if, elif, else\n",
    "edad = 20\n",
    "\n",
    "if edad < 18:\n",
    "    print(\"Eres menor de edad.\")\n",
    "elif 18 <= edad < 65:\n",
    "    print(\"Eres adulto.\")\n",
    "else:\n",
    "    print(\"Eres adulto mayor.\")"
   ]
  },
  {
   "cell_type": "markdown",
   "id": "928d2a77-056d-408a-b94e-6d5603835f28",
   "metadata": {},
   "source": [
    "Las estructuras condicionales permiten tomar decisiones en el código y ejecutar diferentes bloques de código según las necesidades del programa."
   ]
  },
  {
   "cell_type": "markdown",
   "id": "774a4a59-ec4b-414f-ae0e-97d3fe4eaf70",
   "metadata": {},
   "source": [
    "### 2. Bucle For\n",
    "El bucle for itera sobre una secuencia (como una lista o rango) y ejecuta un bloque de código para cada elemento de la secuencia."
   ]
  },
  {
   "cell_type": "code",
   "execution_count": 18,
   "id": "cd156e6c-30df-4500-ad92-4062087d4607",
   "metadata": {},
   "outputs": [
    {
     "name": "stdout",
     "output_type": "stream",
     "text": [
      "Iteración 0\n",
      "Iteración 1\n",
      "Iteración 2\n",
      "Iteración 3\n",
      "Iteración 4\n"
     ]
    }
   ],
   "source": [
    "# Ejemplo de bucle for\n",
    "for i in range(5):\n",
    "    print(f'Iteración {i}')\n"
   ]
  },
  {
   "cell_type": "markdown",
   "id": "732d2f7a-1d6b-4b2f-a7c9-3c836fd541bd",
   "metadata": {},
   "source": [
    "El bucle for es ideal para iterar sobre secuencias con un número conocido de elementos, permitiendo realizar operaciones en cada uno de ellos.\n",
    "\n",
    "#### 2.1 Break\n",
    "\n",
    "La declaración break se utiliza para salir de un bucle antes de que termine su ejecución completa."
   ]
  },
  {
   "cell_type": "code",
   "execution_count": 37,
   "id": "b05760ff-ab03-4ade-9ae2-847bdd9430d7",
   "metadata": {},
   "outputs": [
    {
     "name": "stdout",
     "output_type": "stream",
     "text": [
      "Iteración 0\n",
      "Iteración 1\n",
      "Iteración 2\n"
     ]
    }
   ],
   "source": [
    "# Ejemplo de uso de break\n",
    "for i in range(5):\n",
    "    if i == 3:\n",
    "        break\n",
    "    print(f'Iteración {i}')"
   ]
  },
  {
   "cell_type": "markdown",
   "id": "dad8aa1d-7bed-4b95-8dd9-4f76669b5013",
   "metadata": {},
   "source": [
    "break permite interrumpir un bucle cuando ya no es necesario continuar, mejorando la eficiencia del código."
   ]
  },
  {
   "cell_type": "markdown",
   "id": "6d710879-9c66-4427-8aab-7299cdb09515",
   "metadata": {},
   "source": [
    "#### 2.2 Continue"
   ]
  },
  {
   "cell_type": "markdown",
   "id": "8b60eb26-8c83-45a3-b077-e84cba22199b",
   "metadata": {},
   "source": [
    "La declaración \"continue\" se utiliza para saltar a la siguiente iteración de un bucle, omitiendo el resto del código en la iteración actual."
   ]
  },
  {
   "cell_type": "code",
   "execution_count": 47,
   "id": "7ba73da9-0b99-4d6a-a975-bae125cf38c7",
   "metadata": {},
   "outputs": [
    {
     "name": "stdout",
     "output_type": "stream",
     "text": [
      "Iteración 0\n",
      "Iteración 1\n",
      "Iteración 3\n",
      "Iteración 4\n"
     ]
    }
   ],
   "source": [
    "# Ejemplo de uso de continue\n",
    "for i in range(5):\n",
    "    if i == 2:\n",
    "        continue\n",
    "    print(f'Iteración {i}')"
   ]
  },
  {
   "cell_type": "markdown",
   "id": "829c84ca-fc43-4067-be8c-1c393a6e1bce",
   "metadata": {},
   "source": [
    "\"continue\" permite omitir ciertas iteraciones en un bucle cuando no es necesario ejecutarlas, lo que puede simplificar la lógica del código.\n",
    "\n",
    "### 2.3 Pass\n",
    "\n",
    "La declaración ´pass´ es una operación nula; no hace nada y se utiliza como un marcador de posición donde se necesita un bloque de código sintácticamente pero no se requiere ninguna operación."
   ]
  },
  {
   "cell_type": "code",
   "execution_count": 58,
   "id": "d50f7858-27ed-4823-97ee-a7107f680a4c",
   "metadata": {},
   "outputs": [
    {
     "name": "stdout",
     "output_type": "stream",
     "text": [
      "Iteración 0\n",
      "Iteración 1\n",
      "Iteración 2\n",
      "Iteración 3\n",
      "Iteración 4\n"
     ]
    }
   ],
   "source": [
    "# Ejemplo de uso de pass\n",
    "for i in range(5):\n",
    "    if i == 3:\n",
    "        pass  # Aquí no se realiza ninguna acción\n",
    "    print(f'Iteración {i}')"
   ]
  },
  {
   "cell_type": "markdown",
   "id": "a416589b-7078-431e-847d-18ef71a8542b",
   "metadata": {},
   "source": [
    "´pass´ se utiliza para definir estructuras de código incompletas o como un marcador de posición para futuras implementaciones."
   ]
  },
  {
   "cell_type": "markdown",
   "id": "d8d732a3-b236-4a30-a985-b4aac1f972d8",
   "metadata": {},
   "source": [
    "### 3. Bucle While"
   ]
  },
  {
   "cell_type": "markdown",
   "id": "879f7ae3-43ac-4830-b54d-93cbb5dfd57d",
   "metadata": {},
   "source": [
    "El bucle while continúa ejecutando un bloque de código mientras la condición especificada sea verdadera."
   ]
  },
  {
   "cell_type": "code",
   "execution_count": 24,
   "id": "0c41c2de-655e-4046-ac6e-b194a47536cf",
   "metadata": {},
   "outputs": [
    {
     "name": "stdout",
     "output_type": "stream",
     "text": [
      "Contador: 0\n",
      "Contador: 1\n",
      "Contador: 2\n",
      "Contador: 3\n",
      "Contador: 4\n"
     ]
    }
   ],
   "source": [
    "# Ejemplo de bucle while\n",
    "contador = 0\n",
    "\n",
    "while contador < 5:\n",
    "    print(f'Contador: {contador}')\n",
    "    contador += 1\n"
   ]
  },
  {
   "cell_type": "markdown",
   "id": "69baa1d1-9243-45ab-bfa3-19a948b86037",
   "metadata": {},
   "source": [
    "El bucle while es útil cuando no se conoce de antemano cuántas veces se debe ejecutar el bloque de código, sino que depende de una condición."
   ]
  },
  {
   "cell_type": "markdown",
   "id": "0e42906c-32fb-4364-a637-bd7b0e12231c",
   "metadata": {},
   "source": [
    "### 3.3. Bucle anidado"
   ]
  },
  {
   "cell_type": "markdown",
   "id": "904ebd60-c10c-4c44-90d9-3f643c985c2c",
   "metadata": {},
   "source": [
    "Los bucles pueden ser anidados dentro de otros bucles, lo que permite realizar iteraciones múltiples."
   ]
  },
  {
   "cell_type": "code",
   "execution_count": 33,
   "id": "a02511a9-cff4-4625-984f-38094530bd13",
   "metadata": {},
   "outputs": [
    {
     "name": "stdout",
     "output_type": "stream",
     "text": [
      "i = 0, j = 0\n",
      "i = 0, j = 1\n",
      "i = 1, j = 0\n",
      "i = 1, j = 1\n",
      "i = 2, j = 0\n",
      "i = 2, j = 1\n"
     ]
    }
   ],
   "source": [
    "# Ejemplo de bucle anidado\n",
    "for i in range(3):\n",
    "    for j in range(2):\n",
    "        print(f'i = {i}, j = {j}')\n"
   ]
  },
  {
   "cell_type": "markdown",
   "id": "e31b4335-1e0d-4394-be73-b20986ca9a7e",
   "metadata": {},
   "source": [
    "Los bucles anidados permiten realizar operaciones más complejas, como recorrer matrices o estructuras más complejas de datos."
   ]
  },
  {
   "cell_type": "markdown",
   "id": "23ab84b2-5f67-447e-bea8-dd582ef83b15",
   "metadata": {},
   "source": [
    "### Conclusión\n",
    "\n",
    "Las estructuras de control son fundamentales en Python para controlar el flujo de ejecución de un programa.\n",
    "El uso adecuado de estas estructuras permite escribir código que no solo es más eficiente, sino también más claro y fácil de mantener."
   ]
  },
  {
   "cell_type": "code",
   "execution_count": null,
   "id": "08d77c46-950b-421b-b387-cc0af1d6c3f6",
   "metadata": {},
   "outputs": [],
   "source": []
  }
 ],
 "metadata": {
  "kernelspec": {
   "display_name": "Python 3 (ipykernel)",
   "language": "python",
   "name": "python3"
  },
  "language_info": {
   "codemirror_mode": {
    "name": "ipython",
    "version": 3
   },
   "file_extension": ".py",
   "mimetype": "text/x-python",
   "name": "python",
   "nbconvert_exporter": "python",
   "pygments_lexer": "ipython3",
   "version": "3.12.4"
  }
 },
 "nbformat": 4,
 "nbformat_minor": 5
}
