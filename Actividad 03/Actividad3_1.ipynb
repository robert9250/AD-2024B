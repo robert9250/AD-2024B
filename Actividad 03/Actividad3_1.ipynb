{
 "cells": [
  {
   "cell_type": "markdown",
   "id": "0e3c7ba7-953a-4cbc-ad90-35f313643367",
   "metadata": {},
   "source": [
    "### Jose Roberto Vasquez Luna\n",
    "### 217882996\n",
    "### Actividad 3\n",
    "\n",
    "##### Descripción:\n",
    "\n",
    "Codificar las Variables, Tipos de Variabes y operadores en python, describir y comentar las etapas propuestas, ademas de estar justificadas.\n",
    "\n",
    "# Declaración de Variables\n",
    "\n",
    "En Python, las variables son contenedores que almacenan datos. A diferencia de otros lenguajes, en Python no es necesario declarar explícitamente el tipo de la variable; el tipo se infiere automáticamente en el momento de la asignación."
   ]
  },
  {
   "cell_type": "code",
   "execution_count": null,
   "id": "5c34c61c-d9c2-4635-8c70-80586311acfa",
   "metadata": {},
   "outputs": [],
   "source": [
    "# Declaración de variables\n",
    "nombre = \"Juan\"  # Variable de tipo cadena (string)\n",
    "edad = 25        # Variable de tipo entero (int)\n",
    "altura = 1.75    # Variable de tipo flotante (float)\n",
    "es_estudiante = True  # Variable de tipo booleano (bool)"
   ]
  },
  {
   "cell_type": "markdown",
   "id": "75b14d35-66c9-47e1-8b0c-f4670078937e",
   "metadata": {},
   "source": [
    "Las variables se nombran de manera que sean descriptivas del valor que almacenan. Esto mejora la legibilidad del código."
   ]
  },
  {
   "cell_type": "markdown",
   "id": "f0c39619-15db-47cd-81a9-5c34a4482cd4",
   "metadata": {},
   "source": [
    "# Tipos de Variables\n",
    "\n",
    "Los tipos de variables en Python pueden ser de diferentes clases como enteros, flotantes, cadenas de texto, y booleanos. El tipo de variable define qué tipo de datos se pueden almacenar en la variable y qué operaciones se pueden realizar con ella."
   ]
  },
  {
   "cell_type": "code",
   "execution_count": 9,
   "id": "7c6d2a88-e059-416f-a3a4-469be50dc6ae",
   "metadata": {},
   "outputs": [],
   "source": [
    "# Tipos de variables en Python\n",
    "entero = 10            # Tipo entero (int)\n",
    "flotante = 10.5        # Tipo flotante (float)\n",
    "cadena = \"Hola Mundo\"  # Tipo cadena de texto (string)\n",
    "booleano = False       # Tipo booleano (bool)"
   ]
  },
  {
   "cell_type": "markdown",
   "id": "957d5a72-bc2c-4c46-a30f-410f6e2a7c96",
   "metadata": {},
   "source": [
    "Diferenciar los tipos de variables es esencial para realizar operaciones adecuadas y para evitar errores de tipo en el código."
   ]
  },
  {
   "cell_type": "markdown",
   "id": "55cd3918-b645-430d-bcce-8b00ba03c6fd",
   "metadata": {},
   "source": [
    "# Operadores\n",
    "\n",
    "Los operadores en Python se utilizan para realizar operaciones sobre variables y valores. Se dividen en varias categorías como aritméticos, de comparación, lógicos, de asignación, y más.\n",
    "\n",
    "## 3.1. Operadores Aritméticos"
   ]
  },
  {
   "cell_type": "code",
   "execution_count": 15,
   "id": "abcb41af-c9f4-4fd7-8c32-924efb71d81b",
   "metadata": {},
   "outputs": [],
   "source": [
    "# Operadores aritméticos\n",
    "a = 10\n",
    "b = 5\n",
    "\n",
    "suma = a + b            # Suma: 15\n",
    "resta = a - b           # Resta: 5\n",
    "multiplicacion = a * b  # Multiplicación: 50\n",
    "division = a / b        # División: 2.0\n",
    "modulo = a % b          # Módulo: 0 (resto de la división)\n",
    "exponente = a ** b      # Exponente: 100000"
   ]
  },
  {
   "cell_type": "markdown",
   "id": "a76de9f7-43e6-477f-a362-75c36b33cdda",
   "metadata": {},
   "source": [
    "Estos operadores permiten realizar cálculos básicos, necesarios para la mayoría de las aplicaciones."
   ]
  },
  {
   "cell_type": "markdown",
   "id": "e5d72bd0-3053-4b1b-80a8-019f8b3e18eb",
   "metadata": {},
   "source": [
    "## 3.2. Operadores de Comparación"
   ]
  },
  {
   "cell_type": "code",
   "execution_count": 19,
   "id": "8572c8c7-ec4e-4911-b06f-0887768acc17",
   "metadata": {},
   "outputs": [],
   "source": [
    "# Operadores de comparación\n",
    "a = 10\n",
    "b = 5\n",
    "\n",
    "es_igual = (a == b)        # Igualdad: False\n",
    "es_diferente = (a != b)    # Diferencia: True\n",
    "mayor_que = (a > b)        # Mayor que: True\n",
    "menor_que = (a < b)        # Menor que: False\n",
    "mayor_o_igual = (a >= b)   # Mayor o igual: True\n",
    "menor_o_igual = (a <= b)   # Menor o igual: False"
   ]
  },
  {
   "cell_type": "markdown",
   "id": "a3b475a1-415e-44e2-9f33-5c026082c49e",
   "metadata": {},
   "source": [
    "Los operadores de comparación son esenciales para la toma de decisiones en los programas (por ejemplo, en estructuras condicionales)."
   ]
  },
  {
   "cell_type": "markdown",
   "id": "6380f358-2068-4d56-b8ae-1cf2e45d6558",
   "metadata": {},
   "source": [
    "### 3.3. Operadores Lógicos"
   ]
  },
  {
   "cell_type": "code",
   "execution_count": 25,
   "id": "bcd3d691-e900-4835-90e3-6fee32802695",
   "metadata": {},
   "outputs": [],
   "source": [
    "# Operadores lógicos\n",
    "x = True\n",
    "y = False\n",
    "\n",
    "resultado_and = x and y  # AND lógico: False\n",
    "resultado_or = x or y    # OR lógico: True\n",
    "resultado_not = not x    # NOT lógico: False\n"
   ]
  },
  {
   "cell_type": "markdown",
   "id": "9a6de05b-d82f-4f9a-9f60-2358a3e5f1b3",
   "metadata": {},
   "source": [
    "Los operadores lógicos se utilizan para combinar condiciones, lo que permite la evaluación de múltiples expresiones booleanas."
   ]
  },
  {
   "cell_type": "markdown",
   "id": "8a357c00-b747-4701-85e6-4007ed999dbe",
   "metadata": {},
   "source": [
    "### 4. Comentarios"
   ]
  },
  {
   "cell_type": "markdown",
   "id": "2fc30663-1a8b-43b0-82ec-b9ab64cc6637",
   "metadata": {},
   "source": [
    "Los comentarios en Python se indican con el símbolo #. Son esenciales para explicar el código y hacer que sea más fácil de entender para otros desarrolladores (o para ti mismo en el futuro)."
   ]
  },
  {
   "cell_type": "code",
   "execution_count": 32,
   "id": "3aa44b69-9bc1-4a3b-b4eb-661690700f01",
   "metadata": {},
   "outputs": [
    {
     "data": {
      "text/plain": [
       "'\\nEste es un comentario\\nde múltiples líneas\\n'"
      ]
     },
     "execution_count": 32,
     "metadata": {},
     "output_type": "execute_result"
    }
   ],
   "source": [
    "# Este es un comentario de una sola línea\n",
    "\n",
    "\"\"\"\n",
    "Este es un comentario\n",
    "de múltiples líneas\n",
    "\"\"\"\n"
   ]
  },
  {
   "cell_type": "markdown",
   "id": "a089c62c-5ca2-48dc-b59a-47850ea29c87",
   "metadata": {},
   "source": [
    "Los comentarios no afectan la ejecución del código y son vitales para la documentación y mantenimiento del código."
   ]
  },
  {
   "cell_type": "code",
   "execution_count": null,
   "id": "90cc013a-659f-43f9-80cd-0aa1afe25a57",
   "metadata": {},
   "outputs": [],
   "source": []
  }
 ],
 "metadata": {
  "kernelspec": {
   "display_name": "Python 3 (ipykernel)",
   "language": "python",
   "name": "python3"
  },
  "language_info": {
   "codemirror_mode": {
    "name": "ipython",
    "version": 3
   },
   "file_extension": ".py",
   "mimetype": "text/x-python",
   "name": "python",
   "nbconvert_exporter": "python",
   "pygments_lexer": "ipython3",
   "version": "3.12.4"
  }
 },
 "nbformat": 4,
 "nbformat_minor": 5
}
