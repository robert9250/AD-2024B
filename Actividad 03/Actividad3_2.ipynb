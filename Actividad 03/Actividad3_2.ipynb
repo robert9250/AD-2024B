{
 "cells": [
  {
   "cell_type": "markdown",
   "id": "6a41b1ef-baff-4bae-b4b3-47c4ab8305bf",
   "metadata": {},
   "source": [
    "### Jose Roberto Vasquez Luna\n",
    "### 217882996\n",
    "### Actividad 3\n",
    "\n",
    "##### Descripción:\n",
    "\n",
    "Codificar las Funciones y Modulos en python, describir y comentar las etapas propuestas, ademas de estar justificadas."
   ]
  },
  {
   "cell_type": "markdown",
   "id": "be0f2462-1503-44ea-bad1-b811754c7619",
   "metadata": {},
   "source": [
    "## Funciones y Módulos\n",
    "\n",
    "Las funciones y módulos son bloques fundamentales para estructurar el código de manera organizada y reutilizable. \n",
    "Las funciones permiten agrupar código que realiza una tarea específica, mientras que los módulos permiten agrupar funciones y \n",
    "otros elementos relacionados en un solo archivo para su reutilización en diferentes partes del programa."
   ]
  },
  {
   "cell_type": "markdown",
   "id": "23d559e1-1121-4881-8691-0eb1e2d7b804",
   "metadata": {},
   "source": [
    "## 1. Funciones en Python\n",
    "\n",
    "Las funciones en Python se definen utilizando la palabra clave `def`, seguida del nombre de la función, paréntesis y dos puntos. \n",
    "El cuerpo de la función debe estar indentado."
   ]
  },
  {
   "cell_type": "code",
   "execution_count": 12,
   "id": "e2137cb3-97fd-4946-b615-ff2c84411b4f",
   "metadata": {},
   "outputs": [
    {
     "name": "stdout",
     "output_type": "stream",
     "text": [
      "Hola, Juan!\n"
     ]
    }
   ],
   "source": [
    "# Ejemplo básico de función en Python\n",
    "def saludar(nombre):\n",
    "    '''Esta función imprime un saludo personalizado.'''\n",
    "    print(f'Hola, {nombre}!')\n",
    "\n",
    "# Llamar a la función\n",
    "saludar('Juan')"
   ]
  },
  {
   "cell_type": "markdown",
   "id": "0182545e-1b50-430b-84af-41c337502c78",
   "metadata": {},
   "source": [
    "Las funciones permiten organizar el código en bloques más pequeños y manejables.\n",
    "Esto mejora la legibilidad, facilita la depuración y permite la reutilización del código."
   ]
  },
  {
   "cell_type": "markdown",
   "id": "2996e665-ed42-444c-89b0-086ff386fa1e",
   "metadata": {},
   "source": [
    "## 1.1 Parámetros y Argumentos\n",
    "Las funciones pueden aceptar parámetros, que son valores que se pasan a la función para ser utilizados en su interior.\n",
    "Cuando se llama a la función, se deben proporcionar argumentos que correspondan a estos parámetros."
   ]
  },
  {
   "cell_type": "code",
   "execution_count": 28,
   "id": "d7b6e4df-22f7-4b4f-8529-ec696c7570ff",
   "metadata": {},
   "outputs": [
    {
     "name": "stdout",
     "output_type": "stream",
     "text": [
      "La suma es: 8\n"
     ]
    }
   ],
   "source": [
    "# Función con múltiples parámetros\n",
    "def sumar(a, b):\n",
    "    '''Esta función retorna la suma de dos números.'''\n",
    "    return a + b\n",
    "\n",
    "# Llamar a la función con argumentos\n",
    "resultado = sumar(3, 5)\n",
    "print(f'La suma es: {resultado}')\n"
   ]
  },
  {
   "cell_type": "markdown",
   "id": "d4c17da8-e02c-48db-b74a-5e2142677a29",
   "metadata": {},
   "source": [
    "El uso de parámetros y argumentos hace que las funciones sean más flexibles y adaptables a diferentes contextos."
   ]
  },
  {
   "cell_type": "markdown",
   "id": "edaa67aa-266b-4808-a9d3-01add7e1c493",
   "metadata": {},
   "source": [
    "## 1.2. Funciones con Valores por Defecto\n",
    "\n",
    "Es posible definir valores por defecto para los parámetros de una función. Esto permite que la función sea llamada\n",
    "sin necesidad de proporcionar un argumento para esos parámetros."
   ]
  },
  {
   "cell_type": "code",
   "execution_count": 22,
   "id": "36550228-1807-4e6d-87fe-3caa6d6eca58",
   "metadata": {},
   "outputs": [
    {
     "name": "stdout",
     "output_type": "stream",
     "text": [
      "Hola, Juan!\n",
      "Buenos días, Juan!\n"
     ]
    }
   ],
   "source": [
    "# Función con valor por defecto en un parámetro\n",
    "def saludar(nombre, mensaje='Hola'):\n",
    "    '''Esta función imprime un saludo con un mensaje opcional.'''\n",
    "    print(f'{mensaje}, {nombre}!')\n",
    "\n",
    "# Llamar a la función con y sin el argumento opcional\n",
    "saludar('Juan')  # Usa el valor por defecto\n",
    "saludar('Juan', 'Buenos días')  # Usa un valor personalizado"
   ]
  },
  {
   "cell_type": "markdown",
   "id": "c2db0ec1-b7ea-4b5c-b1b2-6cea37671181",
   "metadata": {},
   "source": [
    "Los valores por defecto simplifican las llamadas a funciones, haciendo el código más limpio y menos propenso a errores."
   ]
  },
  {
   "cell_type": "markdown",
   "id": "057fe681-df4c-483d-8c6d-04d6d7eb3ecb",
   "metadata": {},
   "source": [
    "## 2. Módulos en Python\n",
    "\n",
    "Un módulo en Python es simplemente un archivo con extensión .py que contiene funciones, variables, y otros elementos.\n",
    "Estos módulos pueden ser importados en otros scripts o módulos."
   ]
  },
  {
   "cell_type": "code",
   "execution_count": 39,
   "id": "dbc1591f-372a-4fec-a0f2-59d5edc60835",
   "metadata": {},
   "outputs": [],
   "source": [
    "# Ejemplo de un módulo simple (archivo `mi_modulo.py`):\n",
    "# def saludar(nombre):\n",
    "#     print(f'Hola, {nombre}!')\n",
    "#\n",
    "# def despedir(nombre):\n",
    "#     print(f'Adiós, {nombre}!')"
   ]
  },
  {
   "cell_type": "markdown",
   "id": "b5918ce7-d39e-497d-9920-3ebc4b7d5ef4",
   "metadata": {},
   "source": [
    "## 2.1. Importación de Módulos\n",
    "\n",
    "Para utilizar un módulo en otro script, se debe importar utilizando la palabra clave import. También es posible\n",
    "importar funciones o variables específicas desde un módulo utilizando from ... import ...."
   ]
  },
  {
   "cell_type": "code",
   "execution_count": 41,
   "id": "962b1e70-7d2e-4368-a0ad-939ecab05e4c",
   "metadata": {},
   "outputs": [
    {
     "ename": "ModuleNotFoundError",
     "evalue": "No module named 'mi_modulo'",
     "output_type": "error",
     "traceback": [
      "\u001b[1;31m---------------------------------------------------------------------------\u001b[0m",
      "\u001b[1;31mModuleNotFoundError\u001b[0m                       Traceback (most recent call last)",
      "Cell \u001b[1;32mIn[41], line 2\u001b[0m\n\u001b[0;32m      1\u001b[0m \u001b[38;5;66;03m# Importar un módulo completo\u001b[39;00m\n\u001b[1;32m----> 2\u001b[0m \u001b[38;5;28;01mimport\u001b[39;00m \u001b[38;5;21;01mmi_modulo\u001b[39;00m\n\u001b[0;32m      4\u001b[0m \u001b[38;5;66;03m# Usar funciones del módulo\u001b[39;00m\n\u001b[0;32m      5\u001b[0m mi_modulo\u001b[38;5;241m.\u001b[39msaludar(\u001b[38;5;124m'\u001b[39m\u001b[38;5;124mJuan\u001b[39m\u001b[38;5;124m'\u001b[39m)\n",
      "\u001b[1;31mModuleNotFoundError\u001b[0m: No module named 'mi_modulo'"
     ]
    }
   ],
   "source": [
    "# Importar un módulo completo\n",
    "import mi_modulo\n",
    "\n",
    "# Usar funciones del módulo\n",
    "mi_modulo.saludar('Juan')\n",
    "mi_modulo.despedir('Juan')"
   ]
  },
  {
   "cell_type": "code",
   "execution_count": 43,
   "id": "ee5971be-3cea-4b10-aee0-4952a9b1b800",
   "metadata": {},
   "outputs": [
    {
     "ename": "ModuleNotFoundError",
     "evalue": "No module named 'mi_modulo'",
     "output_type": "error",
     "traceback": [
      "\u001b[1;31m---------------------------------------------------------------------------\u001b[0m",
      "\u001b[1;31mModuleNotFoundError\u001b[0m                       Traceback (most recent call last)",
      "Cell \u001b[1;32mIn[43], line 2\u001b[0m\n\u001b[0;32m      1\u001b[0m \u001b[38;5;66;03m# Importar funciones específicas de un módulo\u001b[39;00m\n\u001b[1;32m----> 2\u001b[0m \u001b[38;5;28;01mfrom\u001b[39;00m \u001b[38;5;21;01mmi_modulo\u001b[39;00m \u001b[38;5;28;01mimport\u001b[39;00m saludar\n\u001b[0;32m      4\u001b[0m \u001b[38;5;66;03m# Usar la función importada\u001b[39;00m\n\u001b[0;32m      5\u001b[0m saludar(\u001b[38;5;124m'\u001b[39m\u001b[38;5;124mJuan\u001b[39m\u001b[38;5;124m'\u001b[39m)\n",
      "\u001b[1;31mModuleNotFoundError\u001b[0m: No module named 'mi_modulo'"
     ]
    }
   ],
   "source": [
    "# Importar funciones específicas de un módulo\n",
    "from mi_modulo import saludar\n",
    "\n",
    "# Usar la función importada\n",
    "saludar('Juan')"
   ]
  },
  {
   "cell_type": "markdown",
   "id": "35d8c825-ae6b-4d4f-ad7d-626a838cdd4c",
   "metadata": {},
   "source": [
    "La organización del código en módulos hace que sea más fácil de mantener y reutilizar, permitiendo una estructura más modular y escalable."
   ]
  },
  {
   "cell_type": "markdown",
   "id": "4b1e4116-1e79-4092-9da5-6da96452c698",
   "metadata": {},
   "source": [
    "## Conclusión\n",
    "\n",
    "El uso de funciones y módulos en Python es esencial para escribir código limpio, reutilizable y bien organizado.\n",
    "Las funciones permiten encapsular tareas específicas, mientras que los módulos permiten agrupar y organizar funciones relacionadas en un solo lugar."
   ]
  }
 ],
 "metadata": {
  "kernelspec": {
   "display_name": "Python 3 (ipykernel)",
   "language": "python",
   "name": "python3"
  },
  "language_info": {
   "codemirror_mode": {
    "name": "ipython",
    "version": 3
   },
   "file_extension": ".py",
   "mimetype": "text/x-python",
   "name": "python",
   "nbconvert_exporter": "python",
   "pygments_lexer": "ipython3",
   "version": "3.12.4"
  }
 },
 "nbformat": 4,
 "nbformat_minor": 5
}
